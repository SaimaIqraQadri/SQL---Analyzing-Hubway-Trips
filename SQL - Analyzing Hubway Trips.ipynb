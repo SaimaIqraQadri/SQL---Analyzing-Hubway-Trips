{
 "cells": [
  {
   "cell_type": "markdown",
   "metadata": {
    "id": "jnaUBXiD90TP"
   },
   "source": [
    "# Analyzing Hubway Trips in SQL"
   ]
  },
  {
   "cell_type": "code",
   "execution_count": 1,
   "metadata": {},
   "outputs": [],
   "source": [
    "import sql"
   ]
  },
  {
   "cell_type": "code",
   "execution_count": 3,
   "metadata": {
    "execution": {
     "iopub.execute_input": "2020-10-21T08:48:37.270Z",
     "iopub.status.busy": "2020-10-21T08:48:37.251Z",
     "iopub.status.idle": "2020-10-21T08:48:37.303Z",
     "shell.execute_reply": "2020-10-21T08:48:37.320Z"
    },
    "executionInfo": {
     "elapsed": 1288,
     "status": "ok",
     "timestamp": 1603029293164,
     "user": {
      "displayName": "Mesum Raza Hemani",
      "photoUrl": "https://lh3.googleusercontent.com/a-/AOh14GidvOU7EcW3dR9GgeqiwE51F9W4l8rnlhUGwn_n4A=s64",
      "userId": "02137032281712867702"
     },
     "user_tz": -300
    },
    "id": "sy4EsMOH90TR"
   },
   "outputs": [],
   "source": [
    "%reload_ext sql\n",
    "%sql sqlite:///hubway.db\n",
    "%config SqlMagic.autocommit=False"
   ]
  },
  {
   "cell_type": "markdown",
   "metadata": {
    "id": "I84hmu-B90TV"
   },
   "source": [
    "**Please write your queries below in the empty boxes same as you write in a SQL Window**\n",
    "\n",
    "Just append **%sql** before your query like this '%sql Select * from Trips limit 5;'"
   ]
  },
  {
   "cell_type": "code",
   "execution_count": 4,
   "metadata": {
    "colab": {
     "base_uri": "https://localhost:8080/",
     "height": 85
    },
    "execution": {
     "iopub.execute_input": "2020-10-21T09:36:52.747Z",
     "iopub.status.busy": "2020-10-21T09:36:52.736Z",
     "iopub.status.idle": "2020-10-21T09:36:52.784Z",
     "shell.execute_reply": "2020-10-21T09:36:52.796Z"
    },
    "executionInfo": {
     "elapsed": 1409,
     "status": "ok",
     "timestamp": 1603029308307,
     "user": {
      "displayName": "Mesum Raza Hemani",
      "photoUrl": "https://lh3.googleusercontent.com/a-/AOh14GidvOU7EcW3dR9GgeqiwE51F9W4l8rnlhUGwn_n4A=s64",
      "userId": "02137032281712867702"
     },
     "user_tz": -300
    },
    "id": "3EQywREo90TW",
    "outputId": "ab565bcc-b305-440e-fb22-2cc08a35acb0"
   },
   "outputs": [
    {
     "name": "stdout",
     "output_type": "stream",
     "text": [
      " * sqlite:///hubway.db\n",
      "(sqlite3.OperationalError) no such table: Trips\n",
      "[SQL: Select * from Trips limit 2]\n",
      "(Background on this error at: http://sqlalche.me/e/e3q8)\n"
     ]
    }
   ],
   "source": [
    "%sql Select * from Trips limit 2"
   ]
  },
  {
   "cell_type": "markdown",
   "metadata": {
    "id": "VjnOTBKt90Ta"
   },
   "source": [
    "**About the Dataset and Schema**\n",
    "\n",
    "The database has two tables, trips and stations. To begin with, we'll look at the trips table. It contains the following columns:\n",
    "\n",
    "\n",
    "**Trips:**\n",
    "\n",
    "id — A unique integer that serves as a reference for each trip\n",
    "\n",
    "duration — The duration of the trip, measured in seconds\n",
    "\n",
    "start_date — The date and time the trip began\n",
    "\n",
    "start_station — An integer that corresponds to the id column in the stations table for the station the trip started at\n",
    "\n",
    "end_date — The date and time the trip ended\n",
    "\n",
    "end_station — The 'id' of the station the trip ended at\n",
    "\n",
    "bike_number — Hubway's unique identifier for the bike used on the trip\n",
    "\n",
    "sub_type — The subscription type of the user. \"Registered\" for users with a membership, \"Casual\" for users without a membership\n",
    "\n",
    "zip_code — The zip code of the user (only available for registered members)\n",
    "\n",
    "birth_date — The birth year of the user (only available for registered members)\n",
    "\n",
    "gender — The gender of the user (only available for registered members)\n",
    "\n",
    "\n",
    "**Station:**\n",
    "\n",
    "\n",
    "id — A unique identifier for each station (corresponds to the start_station and end_station columns in the trips table)\n",
    "\n",
    "station — The station name\n",
    "\n",
    "municipality — The municipality that the station is in (Boston, Brookline, Cambridge or Somerville)\n",
    "\n",
    "lat — The latitude of the station\n",
    "\n",
    "lng — The longitude of the station"
   ]
  },
  {
   "cell_type": "code",
   "execution_count": 4,
   "metadata": {},
   "outputs": [
    {
     "name": "stdout",
     "output_type": "stream",
     "text": [
      " * sqlite:///hubway.db\n",
      "Done.\n"
     ]
    },
    {
     "data": {
      "text/html": [
       "<table>\n",
       "    <tr>\n",
       "        <th>id</th>\n",
       "        <th>station</th>\n",
       "        <th>municipality</th>\n",
       "        <th>lat</th>\n",
       "        <th>lng</th>\n",
       "    </tr>\n",
       "    <tr>\n",
       "        <td>3</td>\n",
       "        <td>Colleges of the Fenway</td>\n",
       "        <td>Boston</td>\n",
       "        <td>42.340021</td>\n",
       "        <td>-71.100812</td>\n",
       "    </tr>\n",
       "    <tr>\n",
       "        <td>4</td>\n",
       "        <td>Tremont St. at Berkeley St.</td>\n",
       "        <td>Boston</td>\n",
       "        <td>42.345392</td>\n",
       "        <td>-71.069616</td>\n",
       "    </tr>\n",
       "    <tr>\n",
       "        <td>5</td>\n",
       "        <td>Northeastern U / North Parking Lot</td>\n",
       "        <td>Boston</td>\n",
       "        <td>42.341814</td>\n",
       "        <td>-71.090179</td>\n",
       "    </tr>\n",
       "</table>"
      ],
      "text/plain": [
       "[(3, 'Colleges of the Fenway', 'Boston', '42.340021', '-71.100812'),\n",
       " (4, 'Tremont St. at Berkeley St.', 'Boston', '42.345392', '-71.069616'),\n",
       " (5, 'Northeastern U / North Parking Lot', 'Boston', '42.341814', '-71.090179')]"
      ]
     },
     "execution_count": 4,
     "metadata": {},
     "output_type": "execute_result"
    }
   ],
   "source": [
    "%sql select * from Stations limit 3"
   ]
  },
  {
   "cell_type": "markdown",
   "metadata": {
    "id": "hKDibiAy90Tb"
   },
   "source": [
    "## Analytical Questions Test in SQL"
   ]
  },
  {
   "cell_type": "markdown",
   "metadata": {
    "id": "CwBUDLCf90Tc"
   },
   "source": [
    "Q1. What was the duration of the longest trip? What was the average trip duration? What was the smallest trip duration?"
   ]
  },
  {
   "cell_type": "markdown",
   "metadata": {},
   "source": [
    "###### A1. Duration of the longest trip is \"9999 sec\", \n",
    "######       Minimum trip duration is \"0 sec\", \n",
    "######       Average trip duration is \"912.41 sec\""
   ]
  },
  {
   "cell_type": "code",
   "execution_count": 20,
   "metadata": {},
   "outputs": [
    {
     "name": "stdout",
     "output_type": "stream",
     "text": [
      " * sqlite:///hubway.db\n",
      "Done.\n"
     ]
    },
    {
     "data": {
      "text/html": [
       "<table>\n",
       "    <tr>\n",
       "        <th>id</th>\n",
       "        <th>duration</th>\n",
       "        <th>start_date</th>\n",
       "        <th>start_station</th>\n",
       "        <th>end_date</th>\n",
       "        <th>end_station</th>\n",
       "        <th>bike_number</th>\n",
       "        <th>sub_type</th>\n",
       "        <th>zip_code</th>\n",
       "        <th>birth_date</th>\n",
       "        <th>gender</th>\n",
       "        <th>MAX(duration)</th>\n",
       "    </tr>\n",
       "    <tr>\n",
       "        <td>541247</td>\n",
       "        <td>9999</td>\n",
       "        <td>2012-09-26 18:34:00</td>\n",
       "        <td>54</td>\n",
       "        <td>2012-09-26 21:21:00</td>\n",
       "        <td>54</td>\n",
       "        <td>T01078</td>\n",
       "        <td>Casual</td>\n",
       "        <td></td>\n",
       "        <td></td>\n",
       "        <td></td>\n",
       "        <td>9999</td>\n",
       "    </tr>\n",
       "</table>"
      ],
      "text/plain": [
       "[(541247, 9999, '2012-09-26 18:34:00', 54, '2012-09-26 21:21:00', 54, 'T01078', 'Casual', '', '', '', 9999)]"
      ]
     },
     "execution_count": 20,
     "metadata": {},
     "output_type": "execute_result"
    }
   ],
   "source": [
    "%sql SELECT *, MAX(duration) FROM Trips; "
   ]
  },
  {
   "cell_type": "code",
   "execution_count": 14,
   "metadata": {},
   "outputs": [
    {
     "name": "stdout",
     "output_type": "stream",
     "text": [
      " * sqlite:///hubway.db\n",
      "Done.\n"
     ]
    },
    {
     "data": {
      "text/html": [
       "<table>\n",
       "    <tr>\n",
       "        <th>id</th>\n",
       "        <th>duration</th>\n",
       "        <th>start_date</th>\n",
       "        <th>start_station</th>\n",
       "        <th>end_date</th>\n",
       "        <th>end_station</th>\n",
       "        <th>bike_number</th>\n",
       "        <th>sub_type</th>\n",
       "        <th>zip_code</th>\n",
       "        <th>birth_date</th>\n",
       "        <th>gender</th>\n",
       "        <th>MIN(duration)</th>\n",
       "    </tr>\n",
       "    <tr>\n",
       "        <td>11586</td>\n",
       "        <td>0</td>\n",
       "        <td>2011-08-09 14:31:00</td>\n",
       "        <td>44</td>\n",
       "        <td>2011-08-09 14:31:00</td>\n",
       "        <td>44</td>\n",
       "        <td>B00430</td>\n",
       "        <td>Registered</td>\n",
       "        <td>&#x27;02446</td>\n",
       "        <td>1956.0</td>\n",
       "        <td>Male</td>\n",
       "        <td>0</td>\n",
       "    </tr>\n",
       "</table>"
      ],
      "text/plain": [
       "[(11586, 0, '2011-08-09 14:31:00', 44, '2011-08-09 14:31:00', 44, 'B00430', 'Registered', \"'02446\", 1956.0, 'Male', 0)]"
      ]
     },
     "execution_count": 14,
     "metadata": {},
     "output_type": "execute_result"
    }
   ],
   "source": [
    "%sql SELECT *, MIN(duration) FROM Trips; "
   ]
  },
  {
   "cell_type": "code",
   "execution_count": 15,
   "metadata": {},
   "outputs": [
    {
     "name": "stdout",
     "output_type": "stream",
     "text": [
      " * sqlite:///hubway.db\n",
      "Done.\n"
     ]
    },
    {
     "data": {
      "text/html": [
       "<table>\n",
       "    <tr>\n",
       "        <th>id</th>\n",
       "        <th>duration</th>\n",
       "        <th>start_date</th>\n",
       "        <th>start_station</th>\n",
       "        <th>end_date</th>\n",
       "        <th>end_station</th>\n",
       "        <th>bike_number</th>\n",
       "        <th>sub_type</th>\n",
       "        <th>zip_code</th>\n",
       "        <th>birth_date</th>\n",
       "        <th>gender</th>\n",
       "        <th>AVG(duration)</th>\n",
       "    </tr>\n",
       "    <tr>\n",
       "        <td>1</td>\n",
       "        <td>9</td>\n",
       "        <td>2011-07-28 10:12:00</td>\n",
       "        <td>23</td>\n",
       "        <td>2011-07-28 10:12:00</td>\n",
       "        <td>23</td>\n",
       "        <td>B00468</td>\n",
       "        <td>Registered</td>\n",
       "        <td>&#x27;97217</td>\n",
       "        <td>1976.0</td>\n",
       "        <td>Male</td>\n",
       "        <td>912.4096819046612</td>\n",
       "    </tr>\n",
       "</table>"
      ],
      "text/plain": [
       "[(1, 9, '2011-07-28 10:12:00', 23, '2011-07-28 10:12:00', 23, 'B00468', 'Registered', \"'97217\", 1976.0, 'Male', 912.4096819046612)]"
      ]
     },
     "execution_count": 15,
     "metadata": {},
     "output_type": "execute_result"
    }
   ],
   "source": [
    "%sql SELECT *, AVG(duration) FROM Trips; "
   ]
  },
  {
   "cell_type": "markdown",
   "metadata": {
    "id": "1eK00otH90Tg"
   },
   "source": [
    "Q2. How many trips were taken by 'Registered' users?\n",
    "\n",
    "Hint: Use Sub Type to Filter"
   ]
  },
  {
   "cell_type": "markdown",
   "metadata": {},
   "source": [
    "###### A2. \"110,5192\" trips were taken by 'Registered' users"
   ]
  },
  {
   "cell_type": "code",
   "execution_count": 24,
   "metadata": {
    "id": "fDtqSAsl90Tg"
   },
   "outputs": [
    {
     "name": "stdout",
     "output_type": "stream",
     "text": [
      " * sqlite:///hubway.db\n",
      "Done.\n"
     ]
    },
    {
     "data": {
      "text/html": [
       "<table>\n",
       "    <tr>\n",
       "        <th>Regitered_users</th>\n",
       "    </tr>\n",
       "    <tr>\n",
       "        <td>1105192</td>\n",
       "    </tr>\n",
       "</table>"
      ],
      "text/plain": [
       "[(1105192,)]"
      ]
     },
     "execution_count": 24,
     "metadata": {},
     "output_type": "execute_result"
    }
   ],
   "source": [
    "%sql SELECT COUNT(*) Regitered_users FROM Trips WHERE sub_type = 'Registered'; "
   ]
  },
  {
   "cell_type": "markdown",
   "metadata": {
    "id": "RiYQ1YmB90Tk"
   },
   "source": [
    "Q3. How many trips were taken by male users in comparison to Female users? for Registered users only\n",
    "\n",
    "Hint: Group By Gender and Calculate Count"
   ]
  },
  {
   "cell_type": "markdown",
   "metadata": {},
   "source": [
    "###### A3. Male registered users taken 833858 trips , while female registerd users taken 271334 trips "
   ]
  },
  {
   "cell_type": "code",
   "execution_count": 28,
   "metadata": {
    "id": "P8KHXkUM90Tl"
   },
   "outputs": [
    {
     "name": "stdout",
     "output_type": "stream",
     "text": [
      " * sqlite:///hubway.db\n",
      "Done.\n"
     ]
    },
    {
     "data": {
      "text/html": [
       "<table>\n",
       "    <tr>\n",
       "        <th>gender</th>\n",
       "        <th>Regitered_users</th>\n",
       "    </tr>\n",
       "    <tr>\n",
       "        <td>Female</td>\n",
       "        <td>271333</td>\n",
       "    </tr>\n",
       "    <tr>\n",
       "        <td>Female<br></td>\n",
       "        <td>1</td>\n",
       "    </tr>\n",
       "    <tr>\n",
       "        <td>Male</td>\n",
       "        <td>833858</td>\n",
       "    </tr>\n",
       "</table>"
      ],
      "text/plain": [
       "[('Female', 271333), ('Female\\n', 1), ('Male', 833858)]"
      ]
     },
     "execution_count": 28,
     "metadata": {},
     "output_type": "execute_result"
    }
   ],
   "source": [
    "%sql SELECT gender, COUNT(*) Regitered_users FROM Trips WHERE sub_type = 'Registered' GROUP BY gender;"
   ]
  },
  {
   "cell_type": "markdown",
   "metadata": {
    "id": "TUYa6eNh90Tq"
   },
   "source": [
    "Q4. Do registered or casual users take longer trips? \n",
    "\n",
    "Hint: Group By Sub Type and Calculate Average"
   ]
  },
  {
   "cell_type": "markdown",
   "metadata": {},
   "source": [
    "###### A4. Casual users taken longer trips in comparison to registerd users"
   ]
  },
  {
   "cell_type": "code",
   "execution_count": 32,
   "metadata": {
    "id": "ZZ7VJRul90Tq"
   },
   "outputs": [
    {
     "name": "stdout",
     "output_type": "stream",
     "text": [
      " * sqlite:///hubway.db\n",
      "Done.\n"
     ]
    },
    {
     "data": {
      "text/html": [
       "<table>\n",
       "    <tr>\n",
       "        <th>sub_type</th>\n",
       "        <th>AVG_trip_duration</th>\n",
       "    </tr>\n",
       "    <tr>\n",
       "        <td>Casual</td>\n",
       "        <td>1519.6438967403815</td>\n",
       "    </tr>\n",
       "    <tr>\n",
       "        <td>Registered</td>\n",
       "        <td>657.0260669639302</td>\n",
       "    </tr>\n",
       "</table>"
      ],
      "text/plain": [
       "[('Casual', 1519.6438967403815), ('Registered', 657.0260669639302)]"
      ]
     },
     "execution_count": 32,
     "metadata": {},
     "output_type": "execute_result"
    }
   ],
   "source": [
    "%sql SELECT sub_type, AVG(duration) AVG_trip_duration FROM Trips GROUP BY sub_type;"
   ]
  },
  {
   "cell_type": "markdown",
   "metadata": {
    "id": "hv9m6dsv90Tu"
   },
   "source": [
    "Q5. Which bike was used for the most trips? \n",
    "\n",
    "Hint : Use Bike Number and Limit Results to 1"
   ]
  },
  {
   "cell_type": "markdown",
   "metadata": {},
   "source": [
    "###### A5. BIke with Bike_number  \"b00225\" was used for most of the trips"
   ]
  },
  {
   "cell_type": "code",
   "execution_count": 2,
   "metadata": {
    "id": "8LIAd_iv90Tv"
   },
   "outputs": [
    {
     "name": "stderr",
     "output_type": "stream",
     "text": [
      "UsageError: Line magic function `%sql` not found.\n"
     ]
    }
   ],
   "source": [
    "%sql SELECT bike_number, COUNT(*) trips FROM Trips \\\n",
    "GROUP BY bike_number \\\n",
    "ORDER BY 2 DESC LIMIT 1;\n",
    "#####3 order by count (*)"
   ]
  },
  {
   "cell_type": "markdown",
   "metadata": {
    "id": "cf3TVN2C90Tx"
   },
   "source": [
    "Q6. What is the average duration of trips by users over the age of 30? \n",
    "\n",
    "Hint : DoB is already in years and use Airthmetic operator to caluculate Age like (2020-DOB)"
   ]
  },
  {
   "cell_type": "markdown",
   "metadata": {},
   "source": [
    "###### A6. Average duration of trips by users over the age of 30 is  \"917 sec\" "
   ]
  },
  {
   "cell_type": "code",
   "execution_count": 24,
   "metadata": {
    "id": "BmVwA2Lm90Ty"
   },
   "outputs": [
    {
     "name": "stdout",
     "output_type": "stream",
     "text": [
      " * sqlite:///hubway.db\n",
      "Done.\n"
     ]
    },
    {
     "data": {
      "text/html": [
       "<table>\n",
       "    <tr>\n",
       "        <th>avg(duration)</th>\n",
       "    </tr>\n",
       "    <tr>\n",
       "        <td>916.5142035958438</td>\n",
       "    </tr>\n",
       "</table>"
      ],
      "text/plain": [
       "[(916.5142035958438,)]"
      ]
     },
     "execution_count": 24,
     "metadata": {},
     "output_type": "execute_result"
    }
   ],
   "source": [
    "%sql SELECT AVG(duration) FROM trips \\\n",
    "WHERE (2020-birth_date) > 30"
   ]
  },
  {
   "cell_type": "markdown",
   "metadata": {
    "id": "ucw8rEnY90T0"
   },
   "source": [
    "Q7. Which stations are most frequently used for round trips? \n",
    "\n",
    "Hint: You will require to use Join Station Table, Also a Round trip is considered as where Start and Stop Stations are same. Limit to top 5 Stations"
   ]
  },
  {
   "cell_type": "markdown",
   "metadata": {},
   "source": [
    "###### A7.  stations with id 135, 9, 66, 85, 20 were most frequently used for round trips"
   ]
  },
  {
   "cell_type": "code",
   "execution_count": 33,
   "metadata": {},
   "outputs": [
    {
     "name": "stdout",
     "output_type": "stream",
     "text": [
      " * sqlite:///hubway.db\n",
      "Done.\n"
     ]
    },
    {
     "data": {
      "text/html": [
       "<table>\n",
       "    <tr>\n",
       "        <th>station</th>\n",
       "        <th>id</th>\n",
       "        <th>start_station</th>\n",
       "        <th>end_station</th>\n",
       "    </tr>\n",
       "    <tr>\n",
       "        <td>359 Broadway - Broadway at Fayette Street</td>\n",
       "        <td>135</td>\n",
       "        <td>135</td>\n",
       "        <td>135</td>\n",
       "    </tr>\n",
       "    <tr>\n",
       "        <td>Agganis Arena - 925 Comm Ave.</td>\n",
       "        <td>9</td>\n",
       "        <td>9</td>\n",
       "        <td>9</td>\n",
       "    </tr>\n",
       "    <tr>\n",
       "        <td>Allston Green District - Commonwealth Ave &amp; Griggs St</td>\n",
       "        <td>66</td>\n",
       "        <td>66</td>\n",
       "        <td>66</td>\n",
       "    </tr>\n",
       "    <tr>\n",
       "        <td>Andrew Station - Dorchester Ave at Humboldt Pl</td>\n",
       "        <td>85</td>\n",
       "        <td>85</td>\n",
       "        <td>85</td>\n",
       "    </tr>\n",
       "    <tr>\n",
       "        <td>Aquarium Station - 200 Atlantic Ave.</td>\n",
       "        <td>20</td>\n",
       "        <td>20</td>\n",
       "        <td>20</td>\n",
       "    </tr>\n",
       "</table>"
      ],
      "text/plain": [
       "[('359 Broadway - Broadway at Fayette Street', 135, 135, 135),\n",
       " ('Agganis Arena - 925 Comm Ave.', 9, 9, 9),\n",
       " ('Allston Green District - Commonwealth Ave & Griggs St', 66, 66, 66),\n",
       " ('Andrew Station - Dorchester Ave at Humboldt Pl', 85, 85, 85),\n",
       " ('Aquarium Station - 200 Atlantic Ave.', 20, 20, 20)]"
      ]
     },
     "execution_count": 33,
     "metadata": {},
     "output_type": "execute_result"
    }
   ],
   "source": [
    "%sql select s.station, count(*) number_trips\n",
    "from trips t\n",
    "join stations as s on t.start_station = s.id\n",
    "WHERE t.start_station = t.end_station \\\n",
    "group by t.start_station\n",
    "order by 2 desc\n",
    "limit 5;"
   ]
  },
  {
   "cell_type": "markdown",
   "metadata": {
    "id": "gitxlr_Q90T3"
   },
   "source": [
    "Q8. How many trips start and end in different municipalities?\n",
    "\n",
    "Hint: We need to JOIN the trips table to the stations table twice. Once ON the start_station column and then ON the end_station"
   ]
  },
  {
   "cell_type": "markdown",
   "metadata": {},
   "source": [
    "###### A8. \"1496904\" trips start and end in different municipalities"
   ]
  },
  {
   "cell_type": "code",
   "execution_count": 3,
   "metadata": {},
   "outputs": [
    {
     "name": "stdout",
     "output_type": "stream",
     "text": [
      " * sqlite:///hubway.db\n",
      "Done.\n"
     ]
    },
    {
     "data": {
      "text/html": [
       "<table>\n",
       "    <tr>\n",
       "        <th>count(t.id)</th>\n",
       "    </tr>\n",
       "    <tr>\n",
       "        <td>1496904</td>\n",
       "    </tr>\n",
       "</table>"
      ],
      "text/plain": [
       "[(1496904,)]"
      ]
     },
     "execution_count": 3,
     "metadata": {},
     "output_type": "execute_result"
    }
   ],
   "source": [
    "%sql %sql SELECT COUNT(*) FROM trips t \\\n",
    "JOIN stations s ON t.start_station = s.id \\\n",
    "JOIN stations st ON t.end_station = st.id \\\n",
    "WHERE s.start_municipality <> s.end_station"
   ]
  },
  {
   "cell_type": "markdown",
   "metadata": {
    "id": "VMIUioIk90T7"
   },
   "source": [
    "Q9. How many trips incurred additional fees (lasted longer than 30 minutes)?\n",
    "\n",
    "Hint: Use an Arithmetic function to calculate Duration in Minutes and Use in Where Clause"
   ]
  },
  {
   "cell_type": "markdown",
   "metadata": {},
   "source": [
    "###### A9.  \"119917\" trips incurred additional fees"
   ]
  },
  {
   "cell_type": "code",
   "execution_count": 5,
   "metadata": {
    "id": "fdR9aX5290T8"
   },
   "outputs": [
    {
     "name": "stdout",
     "output_type": "stream",
     "text": [
      " * sqlite:///hubway.db\n",
      "Done.\n"
     ]
    },
    {
     "data": {
      "text/html": [
       "<table>\n",
       "    <tr>\n",
       "        <th>COUNT(t.id)</th>\n",
       "    </tr>\n",
       "    <tr>\n",
       "        <td>119917</td>\n",
       "    </tr>\n",
       "</table>"
      ],
      "text/plain": [
       "[(119917,)]"
      ]
     },
     "execution_count": 5,
     "metadata": {},
     "output_type": "execute_result"
    }
   ],
   "source": [
    "%sql SELECT COUNT(t.id) FROM trips t \\\n",
    "WHERE (duration / 60) > 30"
   ]
  },
  {
   "cell_type": "markdown",
   "metadata": {
    "id": "ksQvYCPY90T_"
   },
   "source": [
    "Q10. Which bike was used for the longest total time? Provide the answer in Hours\n",
    "\n",
    "Hint: Use an Group by Bike Number to sum Duration in Seconds and Limit Result to 1"
   ]
  },
  {
   "cell_type": "markdown",
   "metadata": {},
   "source": [
    "###### A10. Bike with bike_number  \"B00490\" was used for longest total time of  \"571 hours\""
   ]
  },
  {
   "cell_type": "code",
   "execution_count": 21,
   "metadata": {
    "id": "od0_jInW90UA"
   },
   "outputs": [
    {
     "name": "stdout",
     "output_type": "stream",
     "text": [
      " * sqlite:///hubway.db\n",
      "Done.\n"
     ]
    },
    {
     "data": {
      "text/html": [
       "<table>\n",
       "    <tr>\n",
       "        <th>bike_number</th>\n",
       "        <th>longest_total_time</th>\n",
       "    </tr>\n",
       "    <tr>\n",
       "        <td>B00490</td>\n",
       "        <td>2058643</td>\n",
       "    </tr>\n",
       "</table>"
      ],
      "text/plain": [
       "[('B00490', 2058643)]"
      ]
     },
     "execution_count": 21,
     "metadata": {},
     "output_type": "execute_result"
    }
   ],
   "source": [
    "%sql SELECT bike_number, SUM(duration) longest_total_time FROM trips \\\n",
    "GROUP BY bike_number \\\n",
    "ORDER BY longest_total_time DESC \\\n",
    "LIMIT 1"
   ]
  },
  {
   "cell_type": "code",
   "execution_count": 9,
   "metadata": {},
   "outputs": [
    {
     "name": "stdout",
     "output_type": "stream",
     "text": [
      " * sqlite:///hubway.db\n",
      "Done.\n"
     ]
    },
    {
     "data": {
      "text/html": [
       "<table>\n",
       "    <tr>\n",
       "        <th>bike_number</th>\n",
       "        <th>longest_total_time</th>\n",
       "    </tr>\n",
       "    <tr>\n",
       "        <td>B00490</td>\n",
       "        <td>571</td>\n",
       "    </tr>\n",
       "</table>"
      ],
      "text/plain": [
       "[('B00490', 571)]"
      ]
     },
     "execution_count": 9,
     "metadata": {},
     "output_type": "execute_result"
    }
   ],
   "source": [
    "%sql SELECT bike_number, SUM(duration)/3600 longest_total_time FROM trips \\\n",
    "GROUP BY bike_number \\\n",
    "ORDER BY longest_total_time DESC \\\n",
    "# order by 2\n",
    "LIMIT 1"
   ]
  },
  {
   "cell_type": "markdown",
   "metadata": {
    "id": "WoBja5Bi90UD"
   },
   "source": [
    "Q11. Did registered or casual users take more round trips?\n",
    "\n",
    "Hint: Recall Q7 and Modify your query to answer by Sub Type"
   ]
  },
  {
   "cell_type": "markdown",
   "metadata": {},
   "source": [
    "###### A11. Casual users take more round trips"
   ]
  },
  {
   "cell_type": "code",
   "execution_count": 15,
   "metadata": {},
   "outputs": [
    {
     "name": "stdout",
     "output_type": "stream",
     "text": [
      " * sqlite:///hubway.db\n",
      "Done.\n"
     ]
    },
    {
     "data": {
      "text/html": [
       "<table>\n",
       "    <tr>\n",
       "        <th>sub_type</th>\n",
       "        <th>avg(duration)</th>\n",
       "        <th>sum(duration)</th>\n",
       "    </tr>\n",
       "    <tr>\n",
       "        <td>Casual</td>\n",
       "        <td>3058.2311294566343</td>\n",
       "        <td>126693341</td>\n",
       "    </tr>\n",
       "    <tr>\n",
       "        <td>Registered</td>\n",
       "        <td>867.3554923344398</td>\n",
       "        <td>27438791</td>\n",
       "    </tr>\n",
       "</table>"
      ],
      "text/plain": [
       "[('Casual', 3058.2311294566343, 126693341),\n",
       " ('Registered', 867.3554923344398, 27438791)]"
      ]
     },
     "execution_count": 15,
     "metadata": {},
     "output_type": "execute_result"
    }
   ],
   "source": [
    "%sql SELECT sub_type, AVG(duration), SUM(duration) FROM stations \\\n",
    "JOIN trips ON stations.id = trips.start_station \\\n",
    "WHER trips.start_station = trips.end_station \\\n",
    "GROUP BY sub_type "
   ]
  },
  {
   "cell_type": "markdown",
   "metadata": {
    "id": "3HQvpScA90UG"
   },
   "source": [
    "Q12. Which municipality had the most frequent Station End?\n",
    "\n",
    "Hint: Join the Station table on End Station and then Group by Municipality to find answer"
   ]
  },
  {
   "cell_type": "markdown",
   "metadata": {},
   "source": [
    "###### A12. \"Boston\" had the most frequent station end"
   ]
  },
  {
   "cell_type": "code",
   "execution_count": 25,
   "metadata": {},
   "outputs": [
    {
     "name": "stdout",
     "output_type": "stream",
     "text": [
      " * sqlite:///hubway.db\n",
      "Done.\n"
     ]
    },
    {
     "data": {
      "text/html": [
       "<table>\n",
       "    <tr>\n",
       "        <th>trips</th>\n",
       "        <th>municipality</th>\n",
       "        <th>end_station</th>\n",
       "    </tr>\n",
       "    <tr>\n",
       "        <td>1212364</td>\n",
       "        <td>Boston</td>\n",
       "        <td>23</td>\n",
       "    </tr>\n",
       "    <tr>\n",
       "        <td>297011</td>\n",
       "        <td>Cambridge</td>\n",
       "        <td>73</td>\n",
       "    </tr>\n",
       "    <tr>\n",
       "        <td>39921</td>\n",
       "        <td>Somerville</td>\n",
       "        <td>78</td>\n",
       "    </tr>\n",
       "    <tr>\n",
       "        <td>20677</td>\n",
       "        <td>Brookline</td>\n",
       "        <td>69</td>\n",
       "    </tr>\n",
       "</table>"
      ],
      "text/plain": [
       "[(1212364, 'Boston', 23),\n",
       " (297011, 'Cambridge', 73),\n",
       " (39921, 'Somerville', 78),\n",
       " (20677, 'Brookline', 69)]"
      ]
     },
     "execution_count": 25,
     "metadata": {},
     "output_type": "execute_result"
    }
   ],
   "source": [
    "%sql SELECT count(*) trips, s.municipality, end_station FROM trips t \\\n",
    "JOIN stations s ON t.end_station = s.id \\\n",
    "GROUP BY s.municipality \\\n",
    "order by trips DESC\n",
    "#order by 2 desc\n",
    "limit 1"
   ]
  },
  {
   "cell_type": "code",
   "execution_count": null,
   "metadata": {},
   "outputs": [],
   "source": []
  }
 ],
 "metadata": {
  "colab": {
   "name": "Assignment SQL - Analyzing Hubway Trips.ipynb",
   "provenance": []
  },
  "kernel_info": {
   "name": "python3"
  },
  "kernelspec": {
   "display_name": "Python 3",
   "language": "python",
   "name": "python3"
  },
  "language_info": {
   "codemirror_mode": {
    "name": "ipython",
    "version": 3
   },
   "file_extension": ".py",
   "mimetype": "text/x-python",
   "name": "python",
   "nbconvert_exporter": "python",
   "pygments_lexer": "ipython3",
   "version": "3.7.4"
  },
  "nteract": {
   "version": "0.25.1"
  }
 },
 "nbformat": 4,
 "nbformat_minor": 1
}
